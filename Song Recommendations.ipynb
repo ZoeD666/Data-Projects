{
 "cells": [
  {
   "cell_type": "markdown",
   "metadata": {},
   "source": [
    "# Song Recommendations"
   ]
  },
  {
   "cell_type": "markdown",
   "metadata": {},
   "source": [
    "## Q1(a) "
   ]
  },
  {
   "cell_type": "code",
   "execution_count": 1,
   "metadata": {},
   "outputs": [
    {
     "data": {
      "text/html": [
       "<style>pre { white-space: pre !important; }table.dataframe td { white-space: nowrap !important; }table.dataframe thead th:first-child, table.dataframe tbody th { display: none; }</style>"
      ],
      "text/plain": [
       "<IPython.core.display.HTML object>"
      ]
     },
     "metadata": {},
     "output_type": "display_data"
    }
   ],
   "source": [
    "# Run this cell to import pyspark and to define start_spark() and stop_spark()\n",
    "\n",
    "import findspark\n",
    "\n",
    "findspark.init()\n",
    "\n",
    "import getpass\n",
    "import pandas\n",
    "import pyspark\n",
    "import random\n",
    "import re\n",
    "\n",
    "from IPython.display import display, HTML\n",
    "from pyspark import SparkContext\n",
    "from pyspark.sql import SparkSession\n",
    "\n",
    "\n",
    "# Functions used below\n",
    "def username():\n",
    "    \"\"\"Get username with any domain information removed.\n",
    "    \"\"\"\n",
    "\n",
    "    return re.sub('@.*', '', getpass.getuser())\n",
    "\n",
    "\n",
    "def dict_to_html(d):\n",
    "    \"\"\"Convert a Python dictionary into a two column table for display.\n",
    "    \"\"\"\n",
    "\n",
    "    html = []\n",
    "\n",
    "    html.append(f'<table width=\"100%\" style=\"width:100%; font-family: monospace;\">')\n",
    "    for k, v in d.items():\n",
    "        html.append(f'<tr><td style=\"text-align:left;\">{k}</td><td>{v}</td></tr>')\n",
    "    html.append(f'</table>')\n",
    "\n",
    "    return ''.join(html)\n",
    "\n",
    "\n",
    "def show_as_html(df, n=20):\n",
    "    \"\"\"Leverage existing pandas jupyter integration to show a spark dataframe as html.\n",
    "\n",
    "    Args:\n",
    "        n (int): number of rows to show (default: 20)\n",
    "    \"\"\"\n",
    "\n",
    "    display(df.limit(n).toPandas())\n",
    "\n",
    "   \n",
    "def display_spark():\n",
    "    \"\"\"Display the status of the active Spark session if one is currently running.\n",
    "    \"\"\"\n",
    "    \n",
    "    if 'spark' in globals() and 'sc' in globals():\n",
    "\n",
    "        name = sc.getConf().get(\"spark.app.name\")\n",
    "        \n",
    "        html = [\n",
    "            f'<p><b>Spark</b></p>',\n",
    "            f'<p>The spark session is <b><span style=\"color:green\">active</span></b>, look for <code>{name}</code> under the running applications section in the Spark UI.</p>',\n",
    "            f'<ul>',\n",
    "            f'<li><a href=\"http://mathmadslinux2p.canterbury.ac.nz:8080/\" target=\"_blank\">Spark UI</a></li>',\n",
    "            f'<li><a href=\"{sc.uiWebUrl}\" target=\"_blank\">Spark Application UI</a></li>',\n",
    "            f'</ul>',\n",
    "            f'<p><b>Config</b></p>',\n",
    "            dict_to_html(dict(sc.getConf().getAll())),\n",
    "            f'<p><b>Notes</b></p>',\n",
    "            f'<ul>',\n",
    "            f'<li>The spark session <code>spark</code> and spark context <code>sc</code> global variables have been defined by <code>start_spark()</code>.</li>',\n",
    "            f'<li>Please run <code>stop_spark()</code> before closing the notebook or restarting the kernel or kill <code>{name}</code> by hand using the link in the Spark UI.</li>',\n",
    "            f'</ul>',\n",
    "        ]\n",
    "        display(HTML(''.join(html)))\n",
    "        \n",
    "    else:\n",
    "        \n",
    "        html = [\n",
    "            f'<p><b>Spark</b></p>',\n",
    "            f'<p>The spark session is <b><span style=\"color:red\">stopped</span></b>, confirm that <code>{username() + \" (jupyter)\"}</code> is under the completed applications section in the Spark UI.</p>',\n",
    "            f'<ul>',\n",
    "            f'<li><a href=\"http://mathmadslinux2p.canterbury.ac.nz:8080/\" target=\"_blank\">Spark UI</a></li>',\n",
    "            f'</ul>',\n",
    "        ]\n",
    "        display(HTML(''.join(html)))\n",
    "\n",
    "\n",
    "# Functions to start and stop spark\n",
    "def start_spark(executor_instances=2, executor_cores=1, worker_memory=1, master_memory=1):\n",
    "    \"\"\"Start a new Spark session and define globals for SparkSession (spark) and SparkContext (sc).\n",
    "    \n",
    "    Args:\n",
    "        executor_instances (int): number of executors (default: 2)\n",
    "        executor_cores (int): number of cores per executor (default: 1)\n",
    "        worker_memory (float): worker memory (default: 1)\n",
    "        master_memory (float): master memory (default: 1)\n",
    "    \"\"\"\n",
    "\n",
    "    global spark\n",
    "    global sc\n",
    "\n",
    "    user = username()\n",
    "    \n",
    "    cores = executor_instances * executor_cores\n",
    "    partitions = cores * 4\n",
    "    port = 4000 + random.randint(1, 999)\n",
    "\n",
    "    spark = (\n",
    "        SparkSession.builder\n",
    "        .master(\"spark://masternode2:7077\")\n",
    "        .config(\"spark.driver.extraJavaOptions\", f\"-Dderby.system.home=/tmp/{user}/spark/\")\n",
    "        .config(\"spark.dynamicAllocation.enabled\", \"false\")\n",
    "        .config(\"spark.executor.instances\", str(executor_instances))\n",
    "        .config(\"spark.executor.cores\", str(executor_cores))\n",
    "        .config(\"spark.cores.max\", str(cores))\n",
    "        .config(\"spark.executor.memory\", f\"{worker_memory}g\")\n",
    "        .config(\"spark.driver.memory\", f\"{master_memory}g\")\n",
    "        .config(\"spark.driver.maxResultSize\", \"0\")\n",
    "        .config(\"spark.sql.shuffle.partitions\", str(partitions))\n",
    "        .config(\"spark.ui.port\", str(port))\n",
    "        .appName(user + \" (jupyter)\")\n",
    "        .getOrCreate()\n",
    "    )\n",
    "    sc = SparkContext.getOrCreate()\n",
    "    \n",
    "    display_spark()\n",
    " \n",
    "def stop_spark():\n",
    "    \"\"\"Stop the active Spark session and delete globals for SparkSession (spark) and SparkContext (sc).\n",
    "    \"\"\"\n",
    "\n",
    "    global spark\n",
    "    global sc\n",
    "\n",
    "    if 'spark' in globals() and 'sc' in globals():\n",
    "\n",
    "        spark.stop()\n",
    "\n",
    "        del spark\n",
    "        del sc\n",
    "\n",
    "    display_spark()\n",
    "\n",
    "# Make css changes to improve spark output readability\n",
    "html = [\n",
    "    '<style>',\n",
    "    'pre { white-space: pre !important; }',\n",
    "    'table.dataframe td { white-space: nowrap !important; }',\n",
    "    'table.dataframe thead th:first-child, table.dataframe tbody th { display: none; }',\n",
    "    '</style>',\n",
    "]\n",
    "display(HTML(''.join(html)))"
   ]
  },
  {
   "cell_type": "code",
   "execution_count": 2,
   "metadata": {},
   "outputs": [
    {
     "data": {
      "text/html": [
       "<p><b>Spark</b></p><p>The spark session is <b><span style=\"color:green\">active</span></b>, look for <code>ldo61 (jupyter)</code> under the running applications section in the Spark UI.</p><ul><li><a href=\"http://mathmadslinux2p.canterbury.ac.nz:8080/\" target=\"_blank\">Spark UI</a></li><li><a href=\"http://mathmadslinux2p.canterbury.ac.nz:4453\" target=\"_blank\">Spark Application UI</a></li></ul><p><b>Config</b></p><table width=\"100%\" style=\"width:100%; font-family: monospace;\"><tr><td style=\"text-align:left;\">spark.dynamicAllocation.enabled</td><td>false</td></tr><tr><td style=\"text-align:left;\">spark.executor.instances</td><td>4</td></tr><tr><td style=\"text-align:left;\">spark.ui.port</td><td>4453</td></tr><tr><td style=\"text-align:left;\">spark.driver.memory</td><td>4g</td></tr><tr><td style=\"text-align:left;\">spark.executor.memory</td><td>4g</td></tr><tr><td style=\"text-align:left;\">spark.master</td><td>spark://masternode2:7077</td></tr><tr><td style=\"text-align:left;\">spark.executor.id</td><td>driver</td></tr><tr><td style=\"text-align:left;\">spark.executor.cores</td><td>2</td></tr><tr><td style=\"text-align:left;\">spark.driver.host</td><td>mathmadslinux2p.canterbury.ac.nz</td></tr><tr><td style=\"text-align:left;\">spark.driver.extraJavaOptions</td><td>-Dderby.system.home=/tmp/ldo61/spark/</td></tr><tr><td style=\"text-align:left;\">spark.sql.shuffle.partitions</td><td>32</td></tr><tr><td style=\"text-align:left;\">spark.driver.port</td><td>40757</td></tr><tr><td style=\"text-align:left;\">spark.app.id</td><td>app-20240606153534-1226</td></tr><tr><td style=\"text-align:left;\">spark.rdd.compress</td><td>True</td></tr><tr><td style=\"text-align:left;\">spark.app.startTime</td><td>1717644932644</td></tr><tr><td style=\"text-align:left;\">spark.sql.warehouse.dir</td><td>file:/users/home/ldo61/spark-warehouse</td></tr><tr><td style=\"text-align:left;\">spark.serializer.objectStreamReset</td><td>100</td></tr><tr><td style=\"text-align:left;\">spark.driver.maxResultSize</td><td>0</td></tr><tr><td style=\"text-align:left;\">spark.cores.max</td><td>8</td></tr><tr><td style=\"text-align:left;\">spark.submit.pyFiles</td><td></td></tr><tr><td style=\"text-align:left;\">spark.app.name</td><td>ldo61 (jupyter)</td></tr><tr><td style=\"text-align:left;\">spark.submit.deployMode</td><td>client</td></tr><tr><td style=\"text-align:left;\">spark.ui.showConsoleProgress</td><td>true</td></tr></table><p><b>Notes</b></p><ul><li>The spark session <code>spark</code> and spark context <code>sc</code> global variables have been defined by <code>start_spark()</code>.</li><li>Please run <code>stop_spark()</code> before closing the notebook or restarting the kernel or kill <code>ldo61 (jupyter)</code> by hand using the link in the Spark UI.</li></ul>"
      ],
      "text/plain": [
       "<IPython.core.display.HTML object>"
      ]
     },
     "metadata": {},
     "output_type": "display_data"
    }
   ],
   "source": [
    "# Run this cell to start a spark session in this notebook\n",
    "\n",
    "start_spark(executor_instances=4, executor_cores=2, worker_memory=4, master_memory=4)"
   ]
  },
  {
   "cell_type": "code",
   "execution_count": 3,
   "metadata": {},
   "outputs": [
    {
     "name": "stdout",
     "output_type": "stream",
     "text": [
      "Found 2 items\n",
      "drwxr-xr-x   - jsw93 supergroup          0 2021-09-29 10:35 /data/msd/tasteprofile/mismatches\n",
      "drwxr-xr-x   - jsw93 supergroup          0 2021-09-29 10:35 /data/msd/tasteprofile/triplets.tsv\n",
      "2.0 M    16.2 M  /data/msd/tasteprofile/mismatches\n",
      "488.4 M  3.8 G   /data/msd/tasteprofile/triplets.tsv\n",
      "Found 2 items\n",
      "-rwxr-xr-x   8 jsw93 supergroup      91342 2021-09-29 10:35 /data/msd/tasteprofile/mismatches/sid_matches_manually_accepted.txt\n",
      "-rwxr-xr-x   8 jsw93 supergroup    2026182 2021-09-29 10:35 /data/msd/tasteprofile/mismatches/sid_mismatches.txt\n"
     ]
    }
   ],
   "source": [
    "# Import modules from pyspark\n",
    "from pyspark.sql import SparkSession\n",
    "from pyspark.sql.functions import regexp_extract\n",
    "\n",
    "# Initialize the SparkSession\n",
    "spark = SparkSession.builder.appName('Collaborative Filtering').getOrCreate()\n",
    "\n",
    "# Show the data structure of tasteprofile  \n",
    "!hdfs dfs -ls /data/msd/tasteprofile/\n",
    "!hdfs dfs -du -h /data/msd/tasteprofile\n",
    "!hdfs dfs -ls /data/msd/tasteprofile/mismatches"
   ]
  },
  {
   "cell_type": "code",
   "execution_count": 4,
   "metadata": {},
   "outputs": [
    {
     "name": "stdout",
     "output_type": "stream",
     "text": [
      "+-----------------------------------------------------------------------------------------------------------------------------------------------------+\n",
      "|_c0                                                                                                                                                  |\n",
      "+-----------------------------------------------------------------------------------------------------------------------------------------------------+\n",
      "|ERROR: <SOUMNSI12AB0182807 TRMMGKQ128F9325E10> Digital Underground  -  The Way We Swing  !=  Linkwood  -  Whats up with the Underground              |\n",
      "|ERROR: <SOCMRBE12AB018C546 TRMMREB12903CEB1B1> Jimmy Reed  -  The Sun Is Shining (Digitally Remastered)  !=  Slim Harpo  -  I Got Love If You Want It|\n",
      "|ERROR: <SOLPHZY12AC468ABA8 TRMMBOC12903CEB46E> Africa HiTech  -  Footstep  !=  Marcus Worgull  -  Drumstern (BONUS TRACK)                            |\n",
      "|ERROR: <SONGHTM12A8C1374EF TRMMITP128F425D8D0> Death in Vegas  -  Anita Berber  !=  Valen Hsu  -  Shi Yi                                             |\n",
      "|ERROR: <SONGXCA12A8C13E82E TRMMAYZ128F429ECE6> Grupo Exterminador  -  El Triunfador  !=  I Ribelli  -  Lei M'Ama                                     |\n",
      "|ERROR: <SOMBCRC12A67ADA435 TRMMNVU128EF343EED> Fading Friend  -  Get us out!  !=  Masterboy  -  Feel The Heat 2000                                   |\n",
      "|ERROR: <SOTDWDK12A8C13617B TRMMNCZ128F426FF0E> Daevid Allen  -  Past Lives  !=  Bhimsen Joshi  -  Raga - Shuddha Sarang_ Aalap                       |\n",
      "|ERROR: <SOEBURP12AB018C2FB TRMMPBS12903CE90E1> Cristian Paduraru  -  Born Again  !=  Yespiring  -  Journey Stages                                    |\n",
      "|ERROR: <SOSRJHS12A6D4FDAA3 TRMWMEL128F421DA68> Jeff Mills  -  Basic Human Design  !=  M&T  -  Drumsettester                                          |\n",
      "|ERROR: <SOIYAAQ12A6D4F954A TRMWHRI128F147EA8E> Excepter  -  OG  !=  The Fevers  -  Não Tenho Nada (Natchs Scheint Die Sonne)                         |\n",
      "+-----------------------------------------------------------------------------------------------------------------------------------------------------+\n",
      "only showing top 10 rows\n",
      "\n",
      "+------------------+------------------+--------------------+-------------------------------------------+----------------+------------------------------------------+\n",
      "|song_id           |track_id          |artist1_id          |title1_id                                  |artist2_id      |title2_id                                 |\n",
      "+------------------+------------------+--------------------+-------------------------------------------+----------------+------------------------------------------+\n",
      "|SOUMNSI12AB0182807|TRMMGKQ128F9325E10|Digital Underground | The Way We Swing                          | Linkwood       | Whats up with the Underground            |\n",
      "|SOCMRBE12AB018C546|TRMMREB12903CEB1B1|Jimmy Reed          | The Sun Is Shining (Digitally Remastered) | Slim Harpo     | I Got Love If You Want It                |\n",
      "|SOLPHZY12AC468ABA8|TRMMBOC12903CEB46E|Africa HiTech       | Footstep                                  | Marcus Worgull | Drumstern (BONUS TRACK)                  |\n",
      "|SONGHTM12A8C1374EF|TRMMITP128F425D8D0|Death in Vegas      | Anita Berber                              | Valen Hsu      | Shi Yi                                   |\n",
      "|SONGXCA12A8C13E82E|TRMMAYZ128F429ECE6|Grupo Exterminador  | El Triunfador                             | I Ribelli      | Lei M'Ama                                |\n",
      "|SOMBCRC12A67ADA435|TRMMNVU128EF343EED|Fading Friend       | Get us out!                               | Masterboy      | Feel The Heat 2000                       |\n",
      "|SOTDWDK12A8C13617B|TRMMNCZ128F426FF0E|Daevid Allen        | Past Lives                                | Bhimsen Joshi  | Raga - Shuddha Sarang_ Aalap             |\n",
      "|SOEBURP12AB018C2FB|TRMMPBS12903CE90E1|Cristian Paduraru   | Born Again                                | Yespiring      | Journey Stages                           |\n",
      "|SOSRJHS12A6D4FDAA3|TRMWMEL128F421DA68|Jeff Mills          | Basic Human Design                        | M&T            | Drumsettester                            |\n",
      "|SOIYAAQ12A6D4F954A|TRMWHRI128F147EA8E|Excepter            | OG                                        | The Fevers     | Não Tenho Nada (Natchs Scheint Die Sonne)|\n",
      "+------------------+------------------+--------------------+-------------------------------------------+----------------+------------------------------------------+\n",
      "only showing top 10 rows\n",
      "\n",
      "20032\n"
     ]
    }
   ],
   "source": [
    "# Count the number of row for tasteprofile-mismatches\n",
    "taste_mismatches_df = (\n",
    "    spark.read.format('com.databricks.spark.csv')\n",
    "    .option('header', 'false')\n",
    "    .option('inferSchema', 'true')\n",
    "    .load('hdfs:///data/msd/tasteprofile/mismatches/*.txt')\n",
    ")\n",
    "taste_mismatches_df.show(10, truncate=False)\n",
    "\n",
    "# Extract song_id and creat a new dataframe\n",
    "new_mismatches_df = taste_mismatches_df.select(\n",
    "    regexp_extract('_c0', r'<(\\w+) (\\w+)>', 1).alias('song_id'),\n",
    "    regexp_extract('_c0', r'<\\w+ (\\w+)>', 1).alias('track_id'),\n",
    "    regexp_extract('_c0', r'> (.+?) - (.+?) !=', 1).alias('artist1_id'),\n",
    "    regexp_extract('_c0', r'> (.+?) - (.+?) !=', 2).alias('title1_id'),\n",
    "    regexp_extract('_c0', r'!= (.+?) - (.+?)$', 1).alias('artist2_id'),\n",
    "    regexp_extract('_c0', r'!= (.+?) - (.+?)$', 2).alias('title2_id')\n",
    ")\n",
    "new_mismatches_df.show(10, truncate=False)\n",
    "\n",
    "new_mismatches_rows = new_mismatches_df.count()\n",
    "print(new_mismatches_rows)"
   ]
  },
  {
   "cell_type": "code",
   "execution_count": 5,
   "metadata": {},
   "outputs": [
    {
     "name": "stdout",
     "output_type": "stream",
     "text": [
      "+----------------------------------------+------------------+----------+\n",
      "|user_id                                 |song_id           |play_count|\n",
      "+----------------------------------------+------------------+----------+\n",
      "|f1bfc2a4597a3642f232e7a4e5d5ab2a99cf80e5|SOQEFDN12AB017C52B|1         |\n",
      "|f1bfc2a4597a3642f232e7a4e5d5ab2a99cf80e5|SOQOIUJ12A6701DAA7|2         |\n",
      "|f1bfc2a4597a3642f232e7a4e5d5ab2a99cf80e5|SOQOKKD12A6701F92E|4         |\n",
      "|f1bfc2a4597a3642f232e7a4e5d5ab2a99cf80e5|SOSDVHO12AB01882C7|1         |\n",
      "|f1bfc2a4597a3642f232e7a4e5d5ab2a99cf80e5|SOSKICX12A6701F932|1         |\n",
      "|f1bfc2a4597a3642f232e7a4e5d5ab2a99cf80e5|SOSNUPV12A8C13939B|1         |\n",
      "|f1bfc2a4597a3642f232e7a4e5d5ab2a99cf80e5|SOSVMII12A6701F92D|1         |\n",
      "|f1bfc2a4597a3642f232e7a4e5d5ab2a99cf80e5|SOTUNHI12B0B80AFE2|1         |\n",
      "|f1bfc2a4597a3642f232e7a4e5d5ab2a99cf80e5|SOTXLTZ12AB017C535|1         |\n",
      "|f1bfc2a4597a3642f232e7a4e5d5ab2a99cf80e5|SOTZDDX12A6701F935|1         |\n",
      "+----------------------------------------+------------------+----------+\n",
      "only showing top 10 rows\n",
      "\n",
      "48373586\n"
     ]
    }
   ],
   "source": [
    "# Count the number of row for tasteprofile-triplets\n",
    "taste_triplets_df = (\n",
    "    spark.read.format('com.databricks.spark.csv')\n",
    "    .option('header', 'false')\n",
    "    .option('inferSchema', 'true')\n",
    "    .option('sep', '\\t')\n",
    "    .load('hdfs:///data/msd/tasteprofile/triplets.tsv')\n",
    "    .toDF('user_id', 'song_id', 'play_count')\n",
    ")\n",
    "\n",
    "taste_triplets_df.show(10, truncate=False)\n",
    "\n",
    "taste_triplets_rows = taste_triplets_df.count()\n",
    "print(taste_triplets_rows)"
   ]
  },
  {
   "cell_type": "code",
   "execution_count": 6,
   "metadata": {},
   "outputs": [
    {
     "name": "stdout",
     "output_type": "stream",
     "text": [
      "2\n",
      "8\n"
     ]
    }
   ],
   "source": [
    "# Check the current partitions\n",
    "mismatches_partitions = new_mismatches_df.rdd.getNumPartitions()\n",
    "triplets_partitions = taste_triplets_df.rdd.getNumPartitions()\n",
    "\n",
    "print(mismatches_partitions)\n",
    "print(triplets_partitions)"
   ]
  },
  {
   "cell_type": "code",
   "execution_count": 7,
   "metadata": {},
   "outputs": [
    {
     "name": "stdout",
     "output_type": "stream",
     "text": [
      "483\n"
     ]
    }
   ],
   "source": [
    "# Set an ideal number of records per partition\n",
    "records_per_partition = 100000\n",
    "\n",
    "# Calculate the new number of partitions\n",
    "new_triplets_partitions = max(1, taste_triplets_rows // records_per_partition)\n",
    "\n",
    "print(new_triplets_partitions)"
   ]
  },
  {
   "cell_type": "code",
   "execution_count": 8,
   "metadata": {},
   "outputs": [
    {
     "data": {
      "text/plain": [
       "DataFrame[user_id: string, song_id: string, play_count: int]"
      ]
     },
     "execution_count": 8,
     "metadata": {},
     "output_type": "execute_result"
    }
   ],
   "source": [
    "# Cache the dataframes\n",
    "new_mismatches_df.cache()\n",
    "taste_triplets_df.cache()"
   ]
  },
  {
   "cell_type": "code",
   "execution_count": 9,
   "metadata": {},
   "outputs": [
    {
     "name": "stdout",
     "output_type": "stream",
     "text": [
      "20032\n",
      "48373586\n"
     ]
    }
   ],
   "source": [
    "# Verify caching\n",
    "new_mismatches_count = new_mismatches_df.count()\n",
    "taste_triplets_count = taste_triplets_df.count()\n",
    "\n",
    "print(new_mismatches_count)\n",
    "print(taste_triplets_count)"
   ]
  },
  {
   "cell_type": "markdown",
   "metadata": {},
   "source": [
    "## Q1(b) "
   ]
  },
  {
   "cell_type": "code",
   "execution_count": 10,
   "metadata": {},
   "outputs": [
    {
     "name": "stdout",
     "output_type": "stream",
     "text": [
      "384546\n",
      "1019318\n"
     ]
    }
   ],
   "source": [
    "# Calculate unique songs and users\n",
    "unique_songs = taste_triplets_df.select('song_id').distinct().count()\n",
    "unique_users = taste_triplets_df.select('user_id').distinct().count()\n",
    "\n",
    "print(unique_songs)\n",
    "print(unique_users)"
   ]
  },
  {
   "cell_type": "markdown",
   "metadata": {},
   "source": [
    "## Q1(c)"
   ]
  },
  {
   "cell_type": "code",
   "execution_count": 11,
   "metadata": {},
   "outputs": [
    {
     "name": "stdout",
     "output_type": "stream",
     "text": [
      "4400\n",
      "1.14%\n"
     ]
    }
   ],
   "source": [
    "# Find the most active user and their song count\n",
    "most_active_user = taste_triplets_df.groupBy('user_id').count().orderBy('count', ascending=False).first()\n",
    "songs_active_user = taste_triplets_df.filter(taste_triplets_df.user_id == most_active_user['user_id']).select('song_id').distinct().count()\n",
    "num_songs = unique_songs\n",
    "\n",
    "percent = (songs_active_user / num_songs) * 100\n",
    "\n",
    "print(songs_active_user)\n",
    "print(f'{percent:.2f}%')"
   ]
  },
  {
   "cell_type": "markdown",
   "metadata": {},
   "source": [
    "## Q1(d)"
   ]
  },
  {
   "cell_type": "code",
   "execution_count": 13,
   "metadata": {},
   "outputs": [
    {
     "data": {
      "image/png": "[encoded data removed]",
      "text/plain": [
       "<Figure size 1008x432 with 2 Axes>"
      ]
     },
     "metadata": {
      "needs_background": "light"
     },
     "output_type": "display_data"
    }
   ],
   "source": [
    "# Import modules from pyspark\n",
    "import matplotlib.pyplot as plt\n",
    "\n",
    "# Collect user plays per song\n",
    "song_play_counts = taste_triplets_df.groupBy('song_id').count().orderBy('count', ascending=False).collect()\n",
    "song_play_counts = [row['count'] for row in song_play_counts]\n",
    "\n",
    "# Collect song plays per user\n",
    "user_play_counts = taste_triplets_df.groupBy('user_id').count().orderBy('count', ascending=False).collect()\n",
    "user_play_counts = [row['count'] for row in user_play_counts]\n",
    "\n",
    "# Plot the distributions\n",
    "plt.figure(figsize=(14, 6))\n",
    "\n",
    "plt.subplot(1, 2, 1)\n",
    "plt.hist(song_play_counts, bins=60, log=True, color='blue', edgecolor='white')\n",
    "plt.title('Song Popularity Distribution')\n",
    "plt.xlabel('Plays Number')\n",
    "plt.ylabel('Count')\n",
    "\n",
    "plt.subplot(1, 2, 2)\n",
    "plt.hist(user_play_counts, bins=60, log=True, color='green', edgecolor='white')\n",
    "plt.title('User Activity Distribution')\n",
    "plt.xlabel('Songs Played Number')\n",
    "plt.ylabel('Users')\n",
    "\n",
    "plt.tight_layout()\n",
    "plt.show()"
   ]
  },
  {
   "cell_type": "markdown",
   "metadata": {},
   "source": [
    "## Q2(a)"
   ]
  },
  {
   "cell_type": "code",
   "execution_count": 14,
   "metadata": {},
   "outputs": [
    {
     "name": "stdout",
     "output_type": "stream",
     "text": [
      "+-------+------------------+------------------+\n",
      "|summary|           song_id|             count|\n",
      "+-------+------------------+------------------+\n",
      "|  count|            384546|            384546|\n",
      "|   mean|              null|125.79401684063805|\n",
      "| stddev|              null| 799.0258343095946|\n",
      "|    min|SOAAADD12AB018A9DD|                 1|\n",
      "|    max|SOZZZWN12AF72A1E29|            110479|\n",
      "+-------+------------------+------------------+\n",
      "\n",
      "+-------+--------------------+-----------------+\n",
      "|summary|             user_id|            count|\n",
      "+-------+--------------------+-----------------+\n",
      "|  count|             1019318|          1019318|\n",
      "|   mean|                null|47.45681524313316|\n",
      "| stddev|                null|57.81573063001365|\n",
      "|    min|00000b72200188206...|               10|\n",
      "|    max|fffff9534445f481b...|             4400|\n",
      "+-------+--------------------+-----------------+\n",
      "\n"
     ]
    }
   ],
   "source": [
    "# Import modules from pyspark\n",
    "from pyspark.sql.functions import col, count\n",
    "\n",
    "# Collect user plays per song\n",
    "song_play_counts = taste_triplets_df.groupBy('song_id').agg(count('play_count').alias('count'))\n",
    "\n",
    "# Collect song plays per user\n",
    "user_play_counts = taste_triplets_df.groupBy('user_id').agg(count('play_count').alias('count'))\n",
    "\n",
    "# Show the results\n",
    "song_play_counts.describe().show()\n",
    "user_play_counts.describe().show()"
   ]
  },
  {
   "cell_type": "code",
   "execution_count": 15,
   "metadata": {},
   "outputs": [
    {
     "name": "stdout",
     "output_type": "stream",
     "text": [
      "4\n",
      "11\n"
     ]
    }
   ],
   "source": [
    "from pyspark.sql.functions import expr\n",
    "from pyspark.sql.window import Window\n",
    "from pyspark.sql import functions as F\n",
    "\n",
    "# Group data by song and user and count occurrences\n",
    "song_play_counts = taste_triplets_df.groupBy('song_id').agg(count('play_count').alias('count'))\n",
    "user_play_counts = taste_triplets_df.groupBy('user_id').agg(count('play_count').alias('count'))\n",
    "\n",
    "# Define a window specification\n",
    "windowSpec = Window.orderBy(\"count\")\n",
    "\n",
    "# Add a cumulative count column \n",
    "song_play_counts = song_play_counts.withColumn(\"cumulative_count\", F.sum('count').over(windowSpec))\n",
    "user_play_counts = user_play_counts.withColumn(\"cumulative_count\", F.sum('count').over(windowSpec))\n",
    "\n",
    "# Calculate the total number\n",
    "total_songs = song_play_counts.count()\n",
    "total_users = user_play_counts.count()\n",
    "\n",
    "# Determine the median index \n",
    "median_index_song = (total_songs + 1) // 2\n",
    "median_index_user = (total_users + 1) // 2\n",
    "\n",
    "# Retrieve the median value\n",
    "median_song = song_play_counts.where(song_play_counts.cumulative_count >= median_index_song).select(\"count\").first()\n",
    "median_user = user_play_counts.where(user_play_counts.cumulative_count >= median_index_user).select(\"count\").first()\n",
    "\n",
    "# Output the median play counts\n",
    "print(median_song['count'])\n",
    "print(median_user['count'])"
   ]
  },
  {
   "cell_type": "code",
   "execution_count": 16,
   "metadata": {},
   "outputs": [
    {
     "name": "stdout",
     "output_type": "stream",
     "text": [
      "+-------+-----------------+\n",
      "|summary|       play_count|\n",
      "+-------+-----------------+\n",
      "|  count|         42806354|\n",
      "|   mean|2.831213188584106|\n",
      "| stddev|6.255794607011777|\n",
      "|    min|                1|\n",
      "|    max|             9667|\n",
      "+-------+-----------------+\n",
      "\n",
      "42806354\n"
     ]
    }
   ],
   "source": [
    "# Import modules from pyspark\n",
    "from pyspark.sql.functions import col\n",
    "\n",
    "# Choose thresholds for N and M\n",
    "N = 10\n",
    "M = 20\n",
    "\n",
    "# Remove data fewer than thresholds\n",
    "filtered_songs = song_play_counts.filter(col('count') >= N).select('song_id')\n",
    "filtered_users = user_play_counts.filter(col('count') >= M).select('user_id')\n",
    "\n",
    "# Generate the filtered dataset\n",
    "filtered_data = taste_triplets_df.join(filtered_songs, on='song_id').join(filtered_users, on='user_id')\n",
    "filtered_data = filtered_data.filter(col(\"user_id\").isNotNull() & col(\"song_id\").isNotNull())\n",
    "filtered_data.select('play_count').describe().show()\n",
    "filtered_data.cache()\n",
    "\n",
    "filtered_data_count = filtered_data.count()\n",
    "print(filtered_data_count)"
   ]
  },
  {
   "cell_type": "markdown",
   "metadata": {},
   "source": [
    "## Q2(b)"
   ]
  },
  {
   "cell_type": "code",
   "execution_count": 17,
   "metadata": {},
   "outputs": [
    {
     "name": "stdout",
     "output_type": "stream",
     "text": [
      "32346198\n",
      "10460156\n"
     ]
    }
   ],
   "source": [
    "# Import modules from pyspark\n",
    "from pyspark.sql.functions import col, rand, row_number, max as F_max\n",
    "from pyspark.sql.window import Window\n",
    "\n",
    "# Split the dataset\n",
    "filtered_data = filtered_data.withColumn(\"random\", rand())\n",
    "window_spec = Window.partitionBy(\"user_id\").orderBy(\"random\")\n",
    "filtered_data = filtered_data.withColumn(\"rank\", row_number().over(window_spec))\n",
    "\n",
    "# Ensure at least 25% plays in the test set\n",
    "user_play_counts = filtered_data.groupBy(\"user_id\").agg(F_max(\"rank\").alias(\"max_rank\"))\n",
    "filtered_data = filtered_data.join(user_play_counts, on=\"user_id\")\n",
    "filtered_data = filtered_data.drop(user_play_counts[\"max_rank\"])\n",
    "\n",
    "# After dropping the duplicate max_rank column, proceed with filtering\n",
    "test_data = filtered_data.filter(col(\"rank\") <= col(\"max_rank\") * 0.25)\n",
    "train_data = filtered_data.filter(col(\"rank\") > col(\"max_rank\") * 0.25)\n",
    "\n",
    "# Ensure each user in test set has plays in train set\n",
    "train_users = train_data.select('user_id').distinct()\n",
    "test_data = test_data.join(train_users, on='user_id')\n",
    "\n",
    "# Drop intermediate columns and cache\n",
    "train_data = train_data.drop(\"random\", \"rank\", \"max_rank\").cache()\n",
    "test_data = test_data.drop(\"random\", \"rank\", \"max_rank\").cache()\n",
    "\n",
    "# Print the results\n",
    "print(train_data.count())\n",
    "print(test_data.count())"
   ]
  },
  {
   "cell_type": "markdown",
   "metadata": {},
   "source": [
    "## Q2(c)"
   ]
  },
  {
   "cell_type": "code",
   "execution_count": 19,
   "metadata": {},
   "outputs": [
    {
     "name": "stdout",
     "output_type": "stream",
     "text": [
      "7.3497043615298985\n"
     ]
    }
   ],
   "source": [
    "# Import necessary modules\n",
    "from pyspark.ml.feature import StringIndexer\n",
    "from pyspark.ml.recommendation import ALS\n",
    "from pyspark.ml.evaluation import RegressionEvaluator\n",
    "\n",
    "# Convert user_id and song_id to numeric\n",
    "user_indexer = StringIndexer(inputCol=\"user_id\", outputCol=\"userIndex\")\n",
    "song_indexer = StringIndexer(inputCol=\"song_id\", outputCol=\"songIndex\")\n",
    "\n",
    "indexed_train_data = user_indexer.fit(train_data).transform(train_data)\n",
    "indexed_train_data = song_indexer.fit(indexed_train_data).transform(indexed_train_data)\n",
    "\n",
    "indexed_test_data = user_indexer.fit(test_data).transform(test_data)\n",
    "indexed_test_data = song_indexer.fit(indexed_test_data).transform(indexed_test_data)\n",
    "\n",
    "# Initialize ALS model\n",
    "als = ALS(\n",
    "    userCol=\"userIndex\",\n",
    "    itemCol=\"songIndex\",\n",
    "    ratingCol=\"play_count\",\n",
    "    implicitPrefs=True,\n",
    "    maxIter=10,\n",
    "    regParam=0.1\n",
    ")\n",
    "\n",
    "# Train ALS model\n",
    "als_model = als.fit(indexed_train_data)\n",
    "\n",
    "# Evaluate the model on training data\n",
    "evaluator = RegressionEvaluator(\n",
    "    metricName=\"rmse\",\n",
    "    labelCol=\"play_count\",\n",
    "    predictionCol=\"prediction\"\n",
    ")\n",
    "\n",
    "# Evaluate the model on test data\n",
    "test_predictions = als_model.transform(indexed_test_data)\n",
    "test_rmse = evaluator.evaluate(test_predictions)\n",
    "\n",
    "# Print the results\n",
    "print(test_rmse)"
   ]
  },
  {
   "cell_type": "markdown",
   "metadata": {},
   "source": [
    "## Q2(d)"
   ]
  },
  {
   "cell_type": "code",
   "execution_count": 19,
   "metadata": {
    "scrolled": false
   },
   "outputs": [
    {
     "name": "stdout",
     "output_type": "stream",
     "text": [
      "+----------------------------------------+\n",
      "|user_id                                 |\n",
      "+----------------------------------------+\n",
      "|acfa5a7d8b7751c0dc7e3f3cbc942aa0a190e177|\n",
      "|7f7eb18092db97abe9aee1d1cb219d0dc593f427|\n",
      "|29128ed28c46650ece927f008d1be85646674fd9|\n",
      "|d1e0719db85cc41049ee8ae35eb1eefdbb74a4ca|\n",
      "|6ec7065ccbb67e7170692c8699dd6d1e378beaf0|\n",
      "+----------------------------------------+\n",
      "\n",
      "+---------+----------------------------------------------------------------------------------------------------------------------------------------------------------------------------------------------+\n",
      "|userIndex|recommendations                                                                                                                                                                               |\n",
      "+---------+----------------------------------------------------------------------------------------------------------------------------------------------------------------------------------------------+\n",
      "|321472   |[{78, 0.15666729}, {45, 0.14142156}, {31, 0.131472}, {65, 0.12869889}, {178, 0.1261192}, {51, 0.12521127}, {70, 0.1195437}, {83, 0.11768483}, {176, 0.116424404}, {272, 0.11418228}]          |\n",
      "|483053   |[{202, 0.17869963}, {54, 0.15877962}, {228, 0.15709135}, {166, 0.15449008}, {248, 0.15401913}, {1029, 0.15385194}, {240, 0.15030894}, {14, 0.14853513}, {60, 0.14481981}, {225, 0.14355944}]  |\n",
      "|454122   |[{6, 0.57733834}, {3, 0.57105774}, {31, 0.5566183}, {0, 0.5301474}, {45, 0.5241393}, {7, 0.5158237}, {12, 0.5066025}, {11, 0.49411094}, {23, 0.4860455}, {15, 0.47176546}]                    |\n",
      "|377177   |[{49, 0.04527406}, {17, 0.043528244}, {90, 0.04154806}, {25, 0.036946088}, {163, 0.03428174}, {22, 0.034139566}, {124, 0.033902336}, {334, 0.03275616}, {421, 0.03109621}, {663, 0.030259479}]|\n",
      "|113387   |[{86, 0.117166944}, {228, 0.11115396}, {38, 0.10258049}, {247, 0.10094407}, {155, 0.100723825}, {271, 0.09933595}, {262, 0.09878739}, {240, 0.09577422}, {296, 0.0953417}, {312, 0.09399188}] |\n",
      "+---------+----------------------------------------------------------------------------------------------------------------------------------------------------------------------------------------------+\n",
      "\n",
      "+----------------------------------------+------------------+\n",
      "|user_id                                 |song_id           |\n",
      "+----------------------------------------+------------------+\n",
      "|6ec7065ccbb67e7170692c8699dd6d1e378beaf0|SOWGZCM12AF72A3DA7|\n",
      "|6ec7065ccbb67e7170692c8699dd6d1e378beaf0|SOZCSWR12AF72AABFD|\n",
      "|6ec7065ccbb67e7170692c8699dd6d1e378beaf0|SOTQWLL12A6310E036|\n",
      "|6ec7065ccbb67e7170692c8699dd6d1e378beaf0|SOOWPBJ12A8C137FB4|\n",
      "|6ec7065ccbb67e7170692c8699dd6d1e378beaf0|SOSJUAX12A58A7FD30|\n",
      "|6ec7065ccbb67e7170692c8699dd6d1e378beaf0|SOTJTQI12A6D4F75A2|\n",
      "|6ec7065ccbb67e7170692c8699dd6d1e378beaf0|SOIBKOO12A6701FB5D|\n",
      "|6ec7065ccbb67e7170692c8699dd6d1e378beaf0|SOTIDKX12A6D4FA7EA|\n",
      "|6ec7065ccbb67e7170692c8699dd6d1e378beaf0|SOXSMGP12A6310DFA6|\n",
      "|acfa5a7d8b7751c0dc7e3f3cbc942aa0a190e177|SOMNOMD12AB018A200|\n",
      "|acfa5a7d8b7751c0dc7e3f3cbc942aa0a190e177|SOOXLIG12AB0185803|\n",
      "|acfa5a7d8b7751c0dc7e3f3cbc942aa0a190e177|SOWXVYZ12A8C14245D|\n",
      "|acfa5a7d8b7751c0dc7e3f3cbc942aa0a190e177|SOFFRZX12A6D4F9341|\n",
      "|acfa5a7d8b7751c0dc7e3f3cbc942aa0a190e177|SOESRHX12A58A7E5A0|\n",
      "|acfa5a7d8b7751c0dc7e3f3cbc942aa0a190e177|SOULUTB12A67020918|\n",
      "|acfa5a7d8b7751c0dc7e3f3cbc942aa0a190e177|SOZCDWG12A6D4F81E1|\n",
      "|29128ed28c46650ece927f008d1be85646674fd9|SOBZXCU12A67AE1818|\n",
      "|29128ed28c46650ece927f008d1be85646674fd9|SOABVIN12A8C13C64C|\n",
      "|29128ed28c46650ece927f008d1be85646674fd9|SOJKVMM12A8C13C5FE|\n",
      "|29128ed28c46650ece927f008d1be85646674fd9|SOMLYJD12A58A7B155|\n",
      "+----------------------------------------+------------------+\n",
      "only showing top 20 rows\n",
      "\n",
      "acfa5a7d8b7751c0dc7e3f3cbc942aa0a190e177\n",
      "['SOBABRB12A6701DF4B', 'SONHVVE12AB018D038', 'SOLJWIQ12A6D4FA875', 'SOGWJEY12AC9618862', 'SOXPDDQ12A58A76829', 'SOEOVGV12AF72A1E27', 'SOPSYOY12A8C142E0B', 'SOPUCYA12A8C13A694', 'SOVDLZN12AB0185BEA', 'SOUVGJL12AB017FC35']\n",
      "['SOMNOMD12AB018A200', 'SOOXLIG12AB0185803', 'SOWXVYZ12A8C14245D', 'SOFFRZX12A6D4F9341', 'SOESRHX12A58A7E5A0', 'SOULUTB12A67020918', 'SOZCDWG12A6D4F81E1']\n",
      "7f7eb18092db97abe9aee1d1cb219d0dc593f427\n",
      "['SOGSAYQ12AB018BA14', 'SOLJWIQ12A6D4FA875', 'SOTCMDJ12A6D4F8528', 'SOQGOPT12AAF3B2B27', 'SOBRHVR12A8C133F35', 'SOCXCTS12AC468A380', 'SOPWZGK12A67020744', 'SOPSYOY12A8C142E0B', 'SOODSPH12AB01819C3', 'SOWWCNJ12A81C1FFA5']\n",
      "['SOWGCMN12A8C136E44', 'SOMXKVF12AF72A9AA3', 'SOYJUXS12AC95F02EF', 'SOJKAJD12A6D4FC3BF', 'SOXSGYL12AB0186460', 'SOEJZMU12AB018A9E6', 'SOOQIWQ12A8C13BA8F', 'SOREPVE12A8AE47631', 'SOHNOOC12A8C13BF35', 'SOULTKQ12AB018A183', 'SOJHKLI12AB017AA02', 'SOGNKOW12A8AE47643', 'SOXSQXQ12A6D4FC3C2', 'SONBIEE12A58A7BE55', 'SOWFHWD12AC9075584', 'SOMFAYR12A8C1309CC', 'SOMZNZQ12A6310E83F', 'SOKUAOH12A58A7E654', 'SOAFDFZ12A58A78D0C', 'SOLWZVR12AB01849C6', 'SOCOTTF12AB017C79E', 'SOFPNMM12A8C134A71', 'SOKUPAO12AB018D576', 'SOFRQTD12A81C233C0']\n",
      "29128ed28c46650ece927f008d1be85646674fd9\n",
      "['SOLFXKT12AB017E3E0', 'SONYKOW12AB01849C9', 'SOXFPND12AB017C9D1', 'SOFRQTD12A81C233C0', 'SONNSYV12A8C146BEC', 'SOEGIYH12A6D4FC0E3', 'SOUVTSM12AC468F6A7', 'SOUSMXX12AB0185C24', 'SOSCIZP12AB0181D2F', 'SOCVTLJ12A6310F0FD']\n",
      "['SOBZXCU12A67AE1818', 'SOABVIN12A8C13C64C', 'SOJKVMM12A8C13C5FE', 'SOMLYJD12A58A7B155', 'SONTNZU12A6D4F9D93', 'SOLZCPW12A8C1384AF', 'SOSUIPI12A67021389']\n",
      "d1e0719db85cc41049ee8ae35eb1eefdbb74a4ca\n",
      "['SOEQJBS12A8AE475A4', 'SONNSYV12A8C146BEC', 'SOXFPND12AB017C9D1', 'SOHYSXA12AB0186704', 'SOABJBU12A8C13F63F', 'SOAUFOF12AB0180C65', 'SONQCXC12A6D4F6A37', 'SODLLYS12A8C13A96B', 'SOYGHUM12AB018139C', 'SOGJMJH12A6702154D']\n",
      "['SOLGLUC12AB018A8FA', 'SOGNPCC12A58A80B8A', 'SOJGZXL12A6D4F2980', 'SOOFYTN12A6D4F9B35', 'SOIZLKI12A6D4F7B61', 'SOZJYKV12A8C134A26', 'SOFGQNB12A6D4F74F8', 'SOCVTLJ12A6310F0FD', 'SOSBYWP12A6D4F70C7', 'SOMMUKQ12AB01801A5', 'SOPXJEU12A8C13B67F']\n",
      "6ec7065ccbb67e7170692c8699dd6d1e378beaf0\n",
      "['SOLRGNF12AB0187CF4', 'SOHTKMO12AB01843B0', 'SOAKMDU12A8C1346A9', 'SOPTLQL12AB018D56F', 'SOVRTPN12AB0184F9E', 'SOPQLBY12A6310E992', 'SOUDLVN12AAFF43658', 'SOTSRUQ12A81C22359', 'SONIMNU12B0B8092AB', 'SOUOCRG12A67AE0E17']\n",
      "['SOWGZCM12AF72A3DA7', 'SOZCSWR12AF72AABFD', 'SOTQWLL12A6310E036', 'SOOWPBJ12A8C137FB4', 'SOSJUAX12A58A7FD30', 'SOTJTQI12A6D4F75A2', 'SOIBKOO12A6701FB5D', 'SOTIDKX12A6D4FA7EA', 'SOXSMGP12A6310DFA6']\n"
     ]
    }
   ],
   "source": [
    "# Randomly select users from test set\n",
    "seed = 123\n",
    "selected_users = test_data.select('user_id').distinct().orderBy(rand(seed)).limit(5)\n",
    "selected_users.show(truncate=False)\n",
    "\n",
    "# Convert to indexed user ID\n",
    "selected_users_id = [row['user_id'] for row in selected_users.collect()]\n",
    "indexed_user_indexer = user_indexer.fit(test_data)\n",
    "indexed_selected_users = indexed_user_indexer.transform(selected_users)\n",
    "\n",
    "# Generate recommendations\n",
    "user_recs = als_model.recommendForUserSubset(indexed_selected_users, 10)\n",
    "user_recs.show(truncate=False)\n",
    "\n",
    "# Convert songIndex to song_id\n",
    "indexed_song_indexer = song_indexer.fit(test_data)\n",
    "song_index_mappings = indexed_song_indexer.labels\n",
    "\n",
    "# Get the actual songs\n",
    "actual_played_songs = indexed_test_data.filter(indexed_test_data.user_id.isin(selected_users_id)).select('user_id', 'song_id')\n",
    "actual_played_songs.show(truncate=False)\n",
    "\n",
    "# Evaluate the effectiveness\n",
    "for user_id in selected_users_id:\n",
    "    print(user_id)\n",
    "    user_index = indexed_selected_users.filter(col('user_id') == user_id).select('userIndex').collect()[0]['userIndex']\n",
    "    recommended_songs = user_recs.filter(col('userIndex') == user_index).select('recommendations').collect()[0][0]\n",
    "    recommended_songs_id = [song_index_mappings[row.songIndex] for row in recommended_songs]  # Convert songIndex to song_id\n",
    "\n",
    "    actual_songs = actual_played_songs.filter(col('user_id') == user_id).select('song_id')\n",
    "    actual_songs_id = [row['song_id'] for row in actual_songs.collect()]\n",
    "\n",
    "    print(recommended_songs_id)\n",
    "    print(actual_songs_id)"
   ]
  },
  {
   "cell_type": "markdown",
   "metadata": {},
   "source": [
    "## Q2(e)"
   ]
  },
  {
   "cell_type": "code",
   "execution_count": null,
   "metadata": {},
   "outputs": [],
   "source": [
    "from pyspark.sql import functions as F\n",
    "from pyspark.sql.types import ArrayType, IntegerType\n",
    "from pyspark.mllib.evaluation import RankingMetrics\n",
    "\n",
    "# Convert to integer type\n",
    "indexed_test_data = indexed_test_data.withColumn(\"userIndex\", F.col(\"userIndex\").cast(IntegerType()))\n",
    "indexed_test_data = indexed_test_data.withColumn(\"songIndex\", F.col(\"songIndex\").cast(IntegerType()))\n",
    "\n",
    "# Sample 10% of the test data\n",
    "sample_fraction = 0.1\n",
    "sampled_data = indexed_test_data.sample(fraction=sample_fraction, seed=123)\n",
    "print(f'Sampled data count: {sampled_data.count()}')\n",
    "\n",
    "# Get distinct users from the sampled data\n",
    "sampled_users = sampled_data.select('userIndex').distinct().withColumn(\"userIndex\", F.col(\"userIndex\").cast(IntegerType()))\n",
    "print(f'Sampled users count: {sampled_users.count()}')\n",
    "\n",
    "# Generate recommendations for the sampled users\n",
    "k = 10\n",
    "user_recs = als_model.recommendForUserSubset(sampled_users, k)\n",
    "user_recs = user_recs.withColumn(\"recommendations\", F.expr(f\"transform(recommendations, x -> x.songIndex)\"))\n",
    "user_recs = user_recs.withColumn(\"recommendations\", F.col(\"recommendations\").cast(ArrayType(IntegerType())))\n",
    "\n",
    "# Get actual played songs for the sampled users\n",
    "actual_played_songs = sampled_data.groupBy('userIndex').agg(F.collect_list('songIndex').alias('actual_songs'))\n",
    "actual_played_songs = actual_played_songs.withColumn(\"actual_songs\", F.col(\"actual_songs\").cast(ArrayType(IntegerType())))\n",
    "\n",
    "# Join recommendations with actual played songs\n",
    "user_recs = user_recs.join(actual_played_songs, on='userIndex')\n",
    "\n",
    "# Convert to format for RankingMetrics\n",
    "temp = user_recs.select(\n",
    "    F.col(\"userIndex\"),\n",
    "    F.col(\"recommendations\"),\n",
    "    F.col(\"actual_songs\").alias(\"relevant\")\n",
    ")\n",
    "temp.cache()\n",
    "temp.count() \n",
    "temp.printSchema()\n",
    "\n",
    "# Prepare data for RankingMetrics\n",
    "pred_and_labels = temp.select(F.col(\"recommendations\"), F.col(\"relevant\")).rdd.map(lambda row: (row[0], row[1]))\n",
    "\n",
    "# Initialize RankingMetrics\n",
    "metrics = RankingMetrics(pred_and_labels)\n",
    "\n",
    "# Compute evaluation metrics\n",
    "precisionAtK = metrics.precisionAt(k)\n",
    "ndcgAtK = metrics.ndcgAt(k)\n",
    "mapAtK = metrics.meanAveragePrecisionAt(k)\n",
    "\n",
    "# Print the results\n",
    "print(f'Precision@10: {precisionAtK:.3f}')\n",
    "print(f'NDCG@10: {ndcgAtK:.3f}')\n",
    "print(f'MAP@10: {mapAtK:.3f}')"
   ]
  },
  {
   "cell_type": "code",
   "execution_count": null,
   "metadata": {},
   "outputs": [],
   "source": [
    "stop_spark()"
   ]
  }
 ],
 "metadata": {
  "kernelspec": {
   "display_name": "Python 3",
   "language": "python",
   "name": "python3"
  },
  "language_info": {
   "codemirror_mode": {
    "name": "ipython",
    "version": 3
   },
   "file_extension": ".py",
   "mimetype": "text/x-python",
   "name": "python",
   "nbconvert_exporter": "python",
   "pygments_lexer": "ipython3",
   "version": "3.7.0"
  }
 },
 "nbformat": 4,
 "nbformat_minor": 2
}
